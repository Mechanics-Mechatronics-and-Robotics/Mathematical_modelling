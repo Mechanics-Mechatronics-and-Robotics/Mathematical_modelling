{
  "nbformat": 4,
  "nbformat_minor": 0,
  "metadata": {
    "colab": {
      "provenance": [],
      "authorship_tag": "ABX9TyOqXhwu7lylyoNQemLw9xYK",
      "include_colab_link": true
    },
    "kernelspec": {
      "name": "python3",
      "display_name": "Python 3"
    },
    "language_info": {
      "name": "python"
    }
  },
  "cells": [
    {
      "cell_type": "markdown",
      "metadata": {
        "id": "view-in-github",
        "colab_type": "text"
      },
      "source": [
        "<a href=\"https://colab.research.google.com/github/Mechanics-Mechatronics-and-Robotics/Mathematical_modelling/blob/main/Tensor_calculus.ipynb\" target=\"_parent\"><img src=\"https://colab.research.google.com/assets/colab-badge.svg\" alt=\"Open In Colab\"/></a>"
      ]
    },
    {
      "cell_type": "code",
      "source": [
        "import torch"
      ],
      "metadata": {
        "id": "s8CHqC4MOz5r"
      },
      "execution_count": null,
      "outputs": []
    },
    {
      "cell_type": "markdown",
      "source": [
        "Закон преобразования компонент вектора при повороте координат:\n",
        "\n",
        "$a_{i}^{'} = \\alpha_{ij}a_j$,\n",
        "\n",
        "$\\alpha_{ij} = cos(x_i^{'}x_j)$."
      ],
      "metadata": {
        "id": "Egq3PHHWLqmI"
      }
    },
    {
      "cell_type": "code",
      "source": [
        "phi = torch.tensor(torch.pi / 6)\n",
        "a_old = torch.tensor([torch.cos(phi),torch.sin(phi),0])\n",
        "a_old = torch.unsqueeze(a_old,dim=1)\n",
        "#phi, a_old"
      ],
      "metadata": {
        "id": "9yOduFeIPF_r"
      },
      "execution_count": null,
      "outputs": []
    },
    {
      "cell_type": "markdown",
      "source": [
        "Тогда матрица косинусов примет вид:"
      ],
      "metadata": {
        "id": "zQ8eG_d8PGql"
      }
    },
    {
      "cell_type": "code",
      "source": [
        "alpha = torch.cos(torch.tensor([[phi, (torch.pi / 2 - phi), torch.pi /2],\n",
        "                        [(torch.pi / 2 + phi), phi, torch.pi / 2],\n",
        "                        [torch.pi / 2, torch.pi / 2, 0.0]]))\n",
        "# alpha = torch.transpose(alpha,0,1)"
      ],
      "metadata": {
        "id": "5sYdj-enPpuM"
      },
      "execution_count": null,
      "outputs": []
    },
    {
      "cell_type": "markdown",
      "source": [
        "А вектор в новых координатах должен иметь только одну ненулевую компоненту:\n",
        "\n"
      ],
      "metadata": {
        "id": "XPIWTMJOSYQ8"
      }
    },
    {
      "cell_type": "code",
      "execution_count": null,
      "metadata": {
        "colab": {
          "base_uri": "https://localhost:8080/"
        },
        "id": "1XkEoSlbLpkY",
        "outputId": "2965d6bf-9675-4a62-e7db-8fde86c2b36c"
      },
      "outputs": [
        {
          "output_type": "execute_result",
          "data": {
            "text/plain": [
              "tensor([[ 1.0000e+00],\n",
              "        [-5.9605e-08],\n",
              "        [-5.9711e-08]])"
            ]
          },
          "metadata": {},
          "execution_count": 143
        }
      ],
      "source": [
        "a_new = torch.matmul(alpha, a_old)\n",
        "a_new"
      ]
    }
  ]
}